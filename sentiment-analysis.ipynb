{
 "cells": [
  {
   "cell_type": "markdown",
   "metadata": {
    "collapsed": true
   },
   "source": [
    "## In this project I will be training a neural network for classifying imdb reviews for movies as good or bad\n"
   ]
  },
  {
   "cell_type": "heading",
   "level": 6,
   "metadata": {},
   "source": [
    "Opening and parsing both the data and targets\n"
   ]
  },
  {
   "cell_type": "code",
   "execution_count": 1,
   "metadata": {
    "collapsed": true
   },
   "outputs": [],
   "source": [
    "g = open('reviews.txt','r')\n",
    "reviews = list(map(lambda x : x[:-1],g.readlines()))\n",
    "g.close()\n",
    "\n",
    "g = open('labels.txt','r')\n",
    "labels = list(map(lambda x : x[:-1].upper(),g.readlines()))\n",
    "g.close()"
   ]
  },
  {
   "cell_type": "heading",
   "level": 5,
   "metadata": {},
   "source": [
    "Step 2: Developing a theory about the data. That is, we try to manually find correlation between reviews and their labels. For example, we need to figure out why a review is negative. \n"
   ]
  },
  {
   "cell_type": "code",
   "execution_count": 2,
   "metadata": {
    "collapsed": false
   },
   "outputs": [
    {
     "name": "stdout",
     "output_type": "stream",
     "text": [
      "POSITIVE\t : \tbromwell high is a cartoon comedy . it ran at the same time as some other progra...\n",
      "NEGATIVE\t : \tstory of a man who has unnatural feelings for a pig . starts out with a opening ...\n",
      "POSITIVE\t : \thomelessness  or houselessness as george carlin stated  has been an issue for ye...\n",
      "NEGATIVE\t : \tairport    starts as a brand new luxury    plane is loaded up with valuable pain...\n",
      "POSITIVE\t : \tbrilliant over  acting by lesley ann warren . best dramatic hobo lady i have eve...\n",
      "NEGATIVE\t : \tthis film lacked something i couldn  t put my finger on at first charisma on the...\n",
      "POSITIVE\t : \tthis is easily the most underrated film inn the brooks cannon . sure  its flawed...\n",
      "NEGATIVE\t : \tsorry everyone    i know this is supposed to be an  art  film   but wow  they sh...\n",
      "POSITIVE\t : \tthis is not the typical mel brooks film . it was much less slapstick than most o...\n",
      "NEGATIVE\t : \twhen i was little my parents took me along to the theater to see interiors . it ...\n",
      "POSITIVE\t : \tthis isn  t the comedic robin williams  nor is it the quirky  insane robin willi...\n",
      "NEGATIVE\t : \t  it appears that many critics find the idea of a woody allen drama unpalatable ...\n",
      "POSITIVE\t : \tyes its an art . . . to successfully make a slow paced thriller .  br    br   th...\n",
      "NEGATIVE\t : \tthe second attempt by a new york intellectual in less than   years to make a  sw...\n",
      "POSITIVE\t : \tin this  critically acclaimed psychological thriller based on true events  gabri...\n",
      "NEGATIVE\t : \ti don  t know who to blame  the timid writers or the clueless director . it seem...\n",
      "POSITIVE\t : \tthe night listener           robin williams  toni collette  bobby cannavale  ror...\n",
      "NEGATIVE\t : \tthis film is mediocre at best . angie harmon is as funny as a bag of hammers . h...\n",
      "POSITIVE\t : \tyou know  robin williams  god bless him  is constantly shooting himself in the f...\n",
      "NEGATIVE\t : \tthe film is bad . there is no other way to say it . the story is weak and outdat...\n"
     ]
    }
   ],
   "source": [
    "def pretty_print_review_and_label(index):\n",
    "    print(labels[index]+ \"\\t : \\t\"+ reviews[index][:80]+\"...\")\n",
    "    \n",
    "for i in range(20):\n",
    "    \n",
    "    pretty_print_review_and_label(i)"
   ]
  },
  {
   "cell_type": "heading",
   "level": 5,
   "metadata": {},
   "source": [
    "After looking at the above set of labels and reviews, we need to figure out the patterns.. why negative reviews are negative and why positive reviews are positive. Do negative reviews have certain chars that positive reviews do not? or Do negative reviews have certain ##words## that positive reviews do not? Is it related to phrases.. etc. \n",
    "\n",
    "\n",
    "To investigate this further, we count the frequencies of words in each case: positive review and negative review.\n"
   ]
  },
  {
   "cell_type": "code",
   "execution_count": 3,
   "metadata": {
    "collapsed": true
   },
   "outputs": [],
   "source": [
    "from collections import Counter\n",
    "import numpy as np"
   ]
  },
  {
   "cell_type": "code",
   "execution_count": 4,
   "metadata": {
    "collapsed": true
   },
   "outputs": [],
   "source": [
    "positive_counts = Counter()# to count the frequency of each word in positve review\n",
    "negative_counts = Counter()#to count the frequency of each word in positve review\n",
    "total_counts = Counter() #to maintain total count of each word in the review"
   ]
  },
  {
   "cell_type": "code",
   "execution_count": 5,
   "metadata": {
    "collapsed": true
   },
   "outputs": [],
   "source": [
    "for i in range(len(reviews)):\n",
    "    if(labels[i]==\"POSITIVE\"):\n",
    "        for word in reviews[i].split(\" \"):\n",
    "            positive_counts[word]+=1\n",
    "            total_counts[word]+=1\n",
    "    else:\n",
    "        for word in reviews[i].split(\" \"):\n",
    "            negative_counts[word]+=1\n",
    "            total_counts[word]+=1"
   ]
  },
  {
   "cell_type": "code",
   "execution_count": 8,
   "metadata": {
    "collapsed": false
   },
   "outputs": [
    {
     "data": {
      "text/plain": [
       "[('', 550468),\n",
       " ('the', 173324),\n",
       " ('.', 159654),\n",
       " ('and', 89722),\n",
       " ('a', 83688),\n",
       " ('of', 76855),\n",
       " ('to', 66746),\n",
       " ('is', 57245),\n",
       " ('in', 50215),\n",
       " ('br', 49235)]"
      ]
     },
     "execution_count": 8,
     "metadata": {},
     "output_type": "execute_result"
    }
   ],
   "source": [
    "positive_counts.most_common(10)"
   ]
  },
  {
   "cell_type": "code",
   "execution_count": 9,
   "metadata": {
    "collapsed": false
   },
   "outputs": [
    {
     "data": {
      "text/plain": [
       "[('', 561462),\n",
       " ('.', 167538),\n",
       " ('the', 163389),\n",
       " ('a', 79321),\n",
       " ('and', 74385),\n",
       " ('of', 69009),\n",
       " ('to', 68974),\n",
       " ('br', 52637),\n",
       " ('is', 50083),\n",
       " ('it', 48327)]"
      ]
     },
     "execution_count": 9,
     "metadata": {},
     "output_type": "execute_result"
    }
   ],
   "source": [
    "negative_counts.most_common(10)"
   ]
  },
  {
   "cell_type": "heading",
   "level": 6,
   "metadata": {},
   "source": [
    "After looking at the most common words in both the positive and negative reviews, we can see that mostly, the words are repeated. This does not tell much about the correlation. \n",
    "To solve the problem, we need to devise a ratio which tells us if the word is positive or negative.## needs correction\n",
    "\n"
   ]
  },
  {
   "cell_type": "code",
   "execution_count": 10,
   "metadata": {
    "collapsed": true
   },
   "outputs": [],
   "source": [
    "pos_neg_ratios = Counter()\n",
    "\n",
    "for term, count in list(total_counts.most_common()):\n",
    "    if(count> 10):\n",
    "        pos_neg_ratio = positive_counts[term]/float(negative_counts[term]+1)\n",
    "        pos_neg_ratios[term] = pos_neg_ratio\n",
    "for word, ratio in pos_neg_ratios.most_common():\n",
    "    if(ratio > 1):\n",
    "        pos_neg_ratios[word] = np.log(ratio)\n",
    "    else:\n",
    "        pos_neg_ratios[word] = -np.log((1 / (ratio+0.01)))"
   ]
  },
  {
   "cell_type": "heading",
   "level": 3,
   "metadata": {},
   "source": [
    "Building a Neural Network:\n",
    "* 3 layer neural network \n",
    "* no non linearity in hidden layer\n"
   ]
  },
  {
   "cell_type": "code",
   "execution_count": 11,
   "metadata": {
    "collapsed": false
   },
   "outputs": [
    {
     "data": {
      "text/plain": [
       "[('edie', 4.6913478822291435),\n",
       " ('antwone', 4.4773368144782069),\n",
       " ('din', 4.4067192472642533),\n",
       " ('gunga', 4.1896547420264252),\n",
       " ('goldsworthy', 4.1743872698956368),\n",
       " ('gypo', 4.0943445622221004),\n",
       " ('yokai', 4.0943445622221004),\n",
       " ('paulie', 4.0775374439057197),\n",
       " ('flavia', 3.9318256327243257),\n",
       " ('visconti', 3.9318256327243257)]"
      ]
     },
     "execution_count": 11,
     "metadata": {},
     "output_type": "execute_result"
    }
   ],
   "source": [
    "pos_neg_ratios.most_common(10)"
   ]
  },
  {
   "cell_type": "markdown",
   "metadata": {},
   "source": [
    "#Tokenizing words of the reviews and labels.\n"
   ]
  },
  {
   "cell_type": "code",
   "execution_count": 12,
   "metadata": {
    "collapsed": false
   },
   "outputs": [
    {
     "name": "stdout",
     "output_type": "stream",
     "text": [
      "74074\n"
     ]
    }
   ],
   "source": [
    "vocab = set(total_counts.keys())\n",
    "vocab_size = len(vocab)\n",
    "\n",
    "print(vocab_size)"
   ]
  },
  {
   "cell_type": "code",
   "execution_count": 13,
   "metadata": {
    "collapsed": false
   },
   "outputs": [
    {
     "data": {
      "text/plain": [
       "array([[ 0.,  0.,  0., ...,  0.,  0.,  0.]])"
      ]
     },
     "execution_count": 13,
     "metadata": {},
     "output_type": "execute_result"
    }
   ],
   "source": [
    "import numpy as np\n",
    "layer_0 = np.zeros((1,vocab_size))\n",
    "layer_0"
   ]
  },
  {
   "cell_type": "code",
   "execution_count": 14,
   "metadata": {
    "collapsed": false
   },
   "outputs": [
    {
     "data": {
      "text/plain": [
       "['',\n",
       " 'appelagate',\n",
       " 'inskip',\n",
       " 'horshack',\n",
       " 'hypothse',\n",
       " 'fluidity',\n",
       " 'sos',\n",
       " 'rouses',\n",
       " 'hanger',\n",
       " 'nervy',\n",
       " 'bronston',\n",
       " 'hemet',\n",
       " 'apodictic',\n",
       " 'jal',\n",
       " 'guys',\n",
       " 'comebacks',\n",
       " 'worhol',\n",
       " 'carve',\n",
       " 'agonized',\n",
       " 'gunfight']"
      ]
     },
     "execution_count": 14,
     "metadata": {},
     "output_type": "execute_result"
    }
   ],
   "source": [
    "word2index = { } \n",
    "for index,word in enumerate(vocab):\n",
    "    word2index[word] = index\n",
    "list(word2index.keys())[:20]"
   ]
  },
  {
   "cell_type": "code",
   "execution_count": 15,
   "metadata": {
    "collapsed": true
   },
   "outputs": [],
   "source": [
    "def update_input_layer(review):\n",
    "    global layer_0 \n",
    "    layer_0*=0\n",
    "    for word in review.split(\" \"):\n",
    "        layer_0[0][word2index[word]] += 1\n",
    "update_input_layer(reviews[0])"
   ]
  },
  {
   "cell_type": "code",
   "execution_count": 16,
   "metadata": {
    "collapsed": true
   },
   "outputs": [],
   "source": [
    "def get_target_for_label(label):\n",
    "    if(label == 'POSITIVE'):\n",
    "        return 1\n",
    "    else: \n",
    "        return 0"
   ]
  },
  {
   "cell_type": "markdown",
   "metadata": {},
   "source": [
    "Building the Neural Network"
   ]
  },
  {
   "cell_type": "code",
   "execution_count": 17,
   "metadata": {
    "collapsed": true
   },
   "outputs": [],
   "source": [
    "# Quick numpy.random.normal tutorial:\n",
    "# np.random.normal(mean, std_deviation, size) creates an array with elements in normal distribution.\n",
    "mu,sigma = 10,0.1\n",
    "s = np.random.normal(mu,sigma,size=100000)\n",
    "#print(s)"
   ]
  },
  {
   "cell_type": "code",
   "execution_count": 18,
   "metadata": {
    "collapsed": false
   },
   "outputs": [
    {
     "data": {
      "image/png": "[encoded data removed]",
      "text/plain": [
       "<matplotlib.figure.Figure at 0x10f2ec278>"
      ]
     },
     "metadata": {},
     "output_type": "display_data"
    }
   ],
   "source": [
    "import matplotlib.pyplot as plt\n",
    "count, bins, ignored = plt.hist(s, 30, normed=True)\n",
    "plt.plot(bins, 1/(sigma * np.sqrt(2 * np.pi)) *np.exp( - (bins - mu)**2 / (2 * sigma**2) ),linewidth=2, color='r')\n",
    "plt.show()"
   ]
  },
  {
   "cell_type": "code",
   "execution_count": 19,
   "metadata": {
    "collapsed": true
   },
   "outputs": [],
   "source": [
    "import time\n",
    "import sys\n",
    "import numpy as np\n",
    "# Tweaking our network from before to model these phenomena\n",
    "class NeuralNetwork():\n",
    "    def __init__(self,reviews,labels,hidden_nodes = 10, learning_rate = 0.01):\n",
    "        #set our random number generator\n",
    "        np.random.seed(1)\n",
    "        # calling preprocess_data function\n",
    "        self.preprocess_data(reviews, labels)\n",
    "        \n",
    "        self.initialize_network(len(self.review_vocab),hidden_nodes,1,learning_rate)\n",
    "        \n",
    "    \n",
    "    def preprocess_data(self,reviews, labels):\n",
    "        # creating a set of words from all the reviews.\n",
    "        review_vocab = set()\n",
    "        for review in reviews:\n",
    "            for word in review.split(\" \"):\n",
    "                review_vocab.add(word)\n",
    "        #exporting the set created above as a list variable that is a class variable.        \n",
    "        self.review_vocab = list(review_vocab)\n",
    "        \n",
    "        # similar to the above procedure, we will now create a set of labels and export it to \n",
    "        # self.label_vocab class variable\n",
    "        \n",
    "        label_vocab = set()\n",
    "        for label in labels:\n",
    "            label_vocab.add(label)\n",
    "        self.label_vocab = list(label_vocab)\n",
    "        \n",
    "        # size of the review vocabulary \n",
    "        self.review_vocab_size = len(self.review_vocab)\n",
    "        \n",
    "        # size of the label vocabulary\n",
    "        self.label_vocab_size = len(self.label_vocab)\n",
    "        \n",
    "        # creating a dictionary with words and mapping them to numbers\n",
    "        self.word2index = {}\n",
    "        for word, index in enumerate(self.review_vocab):\n",
    "            self.word2index[word] = index\n",
    "        \n",
    "        # creating a dictionary with labels and mapping them to numbers. \n",
    "        self.label2index = { }\n",
    "        for label, index in enumerate(self.label_vocab):\n",
    "            self.label2index [label] = index\n",
    "                \n",
    "        \n",
    "    def initialize_network(self, input_nodes, hidden_nodes, output_nodes, learning_rate):\n",
    "        # Set number of nodes in input, hidden and output layers.\n",
    "        self.input_nodes = input_nodes\n",
    "        self.hidden_nodes = hidden_nodes\n",
    "        self.output_nodes = output_nodes\n",
    "\n",
    "        # Initialize weights\n",
    "        self.weights_0_1 = np.zeros((self.input_nodes,self.hidden_nodes))\n",
    "    \n",
    "        self.weights_1_2 = np.random.normal(0.0, self.output_nodes**-0.5,\n",
    "                                            (self.hidden_nodes, self.output_nodes))\n",
    "        \n",
    "        self.learning_rate = learning_rate\n",
    "        \n",
    "        self.layer_0 = np.zeros((1,input_nodes))\n",
    "    \n",
    "    def update_input_layer(self,review): #--> resets the input layer for each review. \n",
    "         # clear out previous state, reset the layer to be all 0s\n",
    "        self.layer_0 *= 0\n",
    "        for word in review.split(\" \"):\n",
    "            if(word in self.word2index.keys()):\n",
    "                self.layer_0[0][self.word2index[word]] += 1\n",
    "    \n",
    "    def get_target_for_label(self,label):\n",
    "        if(label == 'POSITIVE'):\n",
    "            return 1\n",
    "        else:\n",
    "            return 0\n",
    "        \n",
    "    def sigmoid(self,x):\n",
    "        return 1 / (1 + np.exp(-x))\n",
    "    \n",
    "    def sigmoid_output_2_derivative(self,output):\n",
    "        return output * (1 - output)\n",
    "    \n",
    "    def train(self,training_reviews, training_labels):\n",
    "        assert(len(training_reviews) == len(training_labels))\n",
    "        \n",
    "        correct_so_far = 0\n",
    "        \n",
    "        start = time.time()\n",
    "        for i in range(len(training_reviews)):\n",
    "            review = training_reviews[i]\n",
    "            label = training_labels[i]\n",
    "            \n",
    "            ## forward pass\n",
    "            \n",
    "            #input layer \n",
    "            self.update_input_layer(review)\n",
    "            \n",
    "            #hidden layer\n",
    "            layer_1 = self.layer_0.dot(self.weights_0_1)\n",
    "            \n",
    "            #output layer\n",
    "            layer_2 = self.sigmoid(layer_1.dot(self.weights_1_2))\n",
    "            \n",
    "            ### Backward Pass:\n",
    "            # output error\n",
    "            layer_2_error = layer_2 - self.get_target_for_label(label)\n",
    "            layer_2_delta = layer_2_error # no non-linearity. So, its the same as the error. \n",
    "            \n",
    "            #backpropagated error\n",
    "            layer_1_error = layer_2_delta.dot(self.weights_1_2.T)# errors propagated to the hidden layer\n",
    "            layer_1_delta = layer_1_error # no non linearity\n",
    "            \n",
    "            # weights update: \n",
    "            self.weights_1_2 -= layer_1.T.dot(layer_2_delta) * self.learning_rate #update hidden weights\n",
    "            self.weights_0_1 -= self.layer_0.T.dot(layer_1_delta)* self.learning_rate\n",
    "            \n",
    "            if(np.abs(layer_2_error)< 0.5):\n",
    "                correct_so_far+=1\n",
    "            reviews_per_second = i/ float(time.time() - start)\n",
    "            sys.stdout.write(\"\\rProgress:\" + str(100 * i/float(len(training_reviews)))[:4] + \n",
    "                             \"% Speed(reviews/sec):\" + str(reviews_per_second)[0:5] + \" #Correct:\"\n",
    "                             + str(correct_so_far) + \" #Trained:\" + str(i+1) + \" Training Accuracy:\"\n",
    "                             + str(correct_so_far * 100 / float(i+1))[:4] + \"%\")\n",
    "            \n",
    "                   \n",
    "            if(i % 2500 == 0):\n",
    "                print(\"\")\n",
    "                \n",
    "    def test(self, testing_reviews, testing_labels):\n",
    "    \n",
    "        correct = 0\n",
    "    \n",
    "        start = time.time()\n",
    "    \n",
    "        for i in range(len(testing_reviews)):\n",
    "            \n",
    "            pred = self.run(testing_reviews[i])\n",
    "            if(pred == testing_labels[i]):\n",
    "                correct += 1\n",
    "        \n",
    "            reviews_per_second = i / float(time.time() - start)\n",
    "        \n",
    "            sys.stdout.write(\"\\rProgress:\" + str(100 * i/float(len(testing_reviews)))[:4] \\\n",
    "                         + \"% Speed(reviews/sec):\" + str(reviews_per_second)[0:5] \\\n",
    "                        + \"% #Correct:\" + str(correct) + \" #Tested:\" + str(i+1) + \" Testing Accuracy:\" + str(correct * 100 / float(i+1))[:4] + \"%\")\n",
    "        \n",
    "    def run(self, review):\n",
    "        \n",
    "        # Input Layer\n",
    "        self.update_input_layer(review.lower())\n",
    "\n",
    "        # Hidden layer\n",
    "        layer_1 = self.layer_0.dot(self.weights_0_1)\n",
    "\n",
    "        # Output layer\n",
    "        layer_2 = self.sigmoid(layer_1.dot(self.weights_1_2))\n",
    "        \n",
    "        if(layer_2[0] > 0.5):\n",
    "            return \"POSITIVE\"\n",
    "        else:\n",
    "            return \"NEGATIVE\""
   ]
  },
  {
   "cell_type": "code",
   "execution_count": 24,
   "metadata": {
    "collapsed": true
   },
   "outputs": [],
   "source": [
    "mlp = NeuralNetwork(reviews[:-1000],labels[:-1000], learning_rate=0.01)"
   ]
  },
  {
   "cell_type": "code",
   "execution_count": 25,
   "metadata": {
    "collapsed": false
   },
   "outputs": [
    {
     "name": "stdout",
     "output_type": "stream",
     "text": [
      "Progress:99.9% Speed(reviews/sec):1333.% #Correct:500 #Tested:1000 Testing Accuracy:50.0%"
     ]
    }
   ],
   "source": [
    "# evaluate our model before training (just to show how horrible it is)\n",
    "mlp.test(reviews[-1000:],labels[-1000:])"
   ]
  },
  {
   "cell_type": "code",
   "execution_count": null,
   "metadata": {
    "collapsed": false
   },
   "outputs": [
    {
     "name": "stdout",
     "output_type": "stream",
     "text": [
      "Progress:0.0% Speed(reviews/sec):0.0 #Correct:0 #Trained:1 Training Accuracy:0.0%\n",
      "Progress:10.4% Speed(reviews/sec):190.3 #Correct:0 #Trained:2501 Training Accuracy:0.0%\n",
      "Progress:20.8% Speed(reviews/sec):183.7 #Correct:0 #Trained:5001 Training Accuracy:0.0%\n",
      "Progress:31.2% Speed(reviews/sec):188.0 #Correct:0 #Trained:7501 Training Accuracy:0.0%\n",
      "Progress:41.6% Speed(reviews/sec):187.3 #Correct:0 #Trained:10001 Training Accuracy:0.0%\n",
      "Progress:51.8% Speed(reviews/sec):184.1 #Correct:0 #Trained:12449 Training Accuracy:0.0%"
     ]
    }
   ],
   "source": [
    "mlp.train(reviews[:-1000],labels[:-1000])"
   ]
  },
  {
   "cell_type": "code",
   "execution_count": 25,
   "metadata": {
    "collapsed": true
   },
   "outputs": [],
   "source": [
    "mlp.test(reviews[-1000:-2000],labels[-1000:-2000])"
   ]
  },
  {
   "cell_type": "code",
   "execution_count": 26,
   "metadata": {
    "collapsed": true
   },
   "outputs": [],
   "source": []
  },
  {
   "cell_type": "code",
   "execution_count": null,
   "metadata": {
    "collapsed": true
   },
   "outputs": [],
   "source": []
  }
 ],
 "metadata": {
  "anaconda-cloud": {},
  "kernelspec": {
   "display_name": "Python [conda root]",
   "language": "python",
   "name": "conda-root-py"
  },
  "language_info": {
   "codemirror_mode": {
    "name": "ipython",
    "version": 3
   },
   "file_extension": ".py",
   "mimetype": "text/x-python",
   "name": "python",
   "nbconvert_exporter": "python",
   "pygments_lexer": "ipython3",
   "version": "3.5.2"
  }
 },
 "nbformat": 4,
 "nbformat_minor": 0
}
