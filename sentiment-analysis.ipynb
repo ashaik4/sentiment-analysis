{
 "cells": [
  {
   "cell_type": "markdown",
   "metadata": {
    "collapsed": true
   },
   "source": [
    "## In this project, I will be training a neural network for classifying imdb reviews for movies as good or bad\n"
   ]
  },
  {
   "cell_type": "heading",
   "metadata": {},
   "level": 6,
   "source": [
    "Opening and parsing both the data and targets\n"
   ]
  },
  {
   "cell_type": "code",
   "execution_count": 4,
   "metadata": {},
   "outputs": [],
   "source": [
    "g = open('reviews.txt','r')\n",
    "reviews = list(map(lambda x : x[:-1],g.readlines()))\n",
    "g.close()\n",
    "\n",
    "g = open('labels.txt','r')\n",
    "labels = list(map(lambda x : x[:-1].upper(),g.readlines()))\n",
    "g.close()"
   ]
  },
  {
   "cell_type": "heading",
   "metadata": {},
   "level": 5,
   "source": [
    "Step 2: Developing a theory about the data. That is, we try to manually find correlation between reviews and their labels. For example, we need to figure out why a review is negative. \n"
   ]
  },
  {
   "cell_type": "code",
   "execution_count": 8,
   "metadata": {},
   "outputs": [
    {
     "name": "stdout",
     "output_type": "stream",
     "text": [
      "POSITIVE\t : \tbromwell high is a cartoon comedy . it ran at the same time as some other progra...\nNEGATIVE\t : \tstory of a man who has unnatural feelings for a pig . starts out with a opening ...\nPOSITIVE\t : \thomelessness  or houselessness as george carlin stated  has been an issue for ye...\nNEGATIVE\t : \tairport    starts as a brand new luxury    plane is loaded up with valuable pain...\nPOSITIVE\t : \tbrilliant over  acting by lesley ann warren . best dramatic hobo lady i have eve...\nNEGATIVE\t : \tthis film lacked something i couldn  t put my finger on at first charisma on the...\nPOSITIVE\t : \tthis is easily the most underrated film inn the brooks cannon . sure  its flawed...\nNEGATIVE\t : \tsorry everyone    i know this is supposed to be an  art  film   but wow  they sh...\nPOSITIVE\t : \tthis is not the typical mel brooks film . it was much less slapstick than most o...\nNEGATIVE\t : \twhen i was little my parents took me along to the theater to see interiors . it ...\nPOSITIVE\t : \tthis isn  t the comedic robin williams  nor is it the quirky  insane robin willi...\nNEGATIVE\t : \t  it appears that many critics find the idea of a woody allen drama unpalatable ...\nPOSITIVE\t : \tyes its an art . . . to successfully make a slow paced thriller .  br    br   th...\nNEGATIVE\t : \tthe second attempt by a new york intellectual in less than   years to make a  sw...\nPOSITIVE\t : \tin this  critically acclaimed psychological thriller based on true events  gabri...\nNEGATIVE\t : \ti don  t know who to blame  the timid writers or the clueless director . it seem...\nPOSITIVE\t : \tthe night listener           robin williams  toni collette  bobby cannavale  ror...\nNEGATIVE\t : \tthis film is mediocre at best . angie harmon is as funny as a bag of hammers . h...\nPOSITIVE\t : \tyou know  robin williams  god bless him  is constantly shooting himself in the f...\nNEGATIVE\t : \tthe film is bad . there is no other way to say it . the story is weak and outdat...\n"
     ]
    }
   ],
   "source": [
    "def pretty_print_review_and_label(index):\n",
    "    print(labels[index]+ \"\\t : \\t\"+ reviews[index][:80]+\"...\")\n",
    "    \n",
    "for i in range(20):\n",
    "    \n",
    "    pretty_print_review_and_label(i)"
   ]
  },
  {
   "cell_type": "heading",
   "metadata": {},
   "level": 5,
   "source": [
    "After looking at the above set of labels and reviews, we need to figure out the patterns.. why negative reviews are negative and why positive reviews are positive. Do negative reviews have certain chars that positive reviews do not? or Do negative reviews have certain ##words## that positive reviews do not? Is it related to phrases.. etc. \n",
    "\n",
    "\n",
    "To investigate this further, we count the frequencies of words in each case: positive review and negative review.\n"
   ]
  },
  {
   "cell_type": "code",
   "execution_count": 9,
   "metadata": {},
   "outputs": [],
   "source": [
    "from collections import Counter\n",
    "import numpy as np"
   ]
  },
  {
   "cell_type": "code",
   "execution_count": 10,
   "metadata": {},
   "outputs": [],
   "source": [
    "positive_counts = Counter()# to count the frequency of each word in positve review\n",
    "negative_counts = Counter()#to count the frequency of each word in positve review\n",
    "total_counts = Counter() #to maintain total count of each word in the review\n"
   ]
  },
  {
   "cell_type": "code",
   "execution_count": 12,
   "metadata": {},
   "outputs": [],
   "source": [
    "for i in range(len(reviews)):\n",
    "    if(labels[i]==\"POSITIVE\"):\n",
    "        for word in reviews[i].split(\" \"):\n",
    "            positive_counts[word]+=1\n",
    "            total_counts[word]+=1\n",
    "    else:\n",
    "        for word in reviews[i].split(\" \"):\n",
    "            negative_counts[word]+=1\n",
    "            total_counts[word]+=1"
   ]
  },
  {
   "cell_type": "code",
   "execution_count": 13,
   "metadata": {},
   "outputs": [
    {
     "data": {
      "text/plain": [
       "[('', 550468),\n ('the', 173324),\n ('.', 159654),\n ('and', 89722),\n ('a', 83688),\n ('of', 76855),\n ('to', 66746),\n ('is', 57245),\n ('in', 50215),\n ('br', 49235)]"
      ]
     },
     "execution_count": 13,
     "metadata": {},
     "output_type": "execute_result"
    }
   ],
   "source": [
    "positive_counts.most_common(10)"
   ]
  },
  {
   "cell_type": "code",
   "execution_count": 14,
   "metadata": {},
   "outputs": [
    {
     "data": {
      "text/plain": [
       "[('', 561462),\n ('.', 167538),\n ('the', 163389),\n ('a', 79321),\n ('and', 74385),\n ('of', 69009),\n ('to', 68974),\n ('br', 52637),\n ('is', 50083),\n ('it', 48327)]"
      ]
     },
     "execution_count": 14,
     "metadata": {},
     "output_type": "execute_result"
    }
   ],
   "source": [
    "negative_counts.most_common(10)"
   ]
  },
  {
   "cell_type": "heading",
   "metadata": {},
   "level": 6,
   "source": [
    "After looking at the most common words in both the positive and negative reviews, we can see that mostly, the words are repeated. This does not tell much about the correlation. \n",
    "To solve the problem, we need to devise a ratio which tells us if the word is positive or negative.## needs correction\n",
    "\n"
   ]
  },
  {
   "cell_type": "code",
   "execution_count": 16,
   "metadata": {},
   "outputs": [
    {
     "name": "stdout",
     "output_type": "stream",
     "text": [
      "[('', 1111930), ('the', 336713), ('.', 327192), ('and', 164107), ('a', 163009), ('of', 145864), ('to', 135720), ('is', 107328), ('br', 101872), ('it', 96352), ('in', 93968), ('i', 87623), ('this', 76000), ('that', 73245), ('s', 65361), ('was', 48208), ('as', 46933), ('for', 44343), ('with', 44125), ('movie', 44039)]\n"
     ]
    }
   ],
   "source": [
    "pos_neg_ratios = Counter()\n",
    "\n",
    "for term, count in list(total_counts.most_common()):\n",
    "    if(count> 10):\n",
    "        pos_neg_ratio = positive_counts[term]/float(negative_counts[term]+1)\n",
    "        pos_neg_ratios[term] = pos_neg_ratio\n",
    "for word, ratio in pos_neg_ratios.most_common():\n",
    "    if(ratio > 1):\n",
    "        \n",
    "        \n",
    "        "
   ]
  },
  {
   "cell_type": "code",
   "execution_count": null,
   "metadata": {},
   "outputs": [],
   "source": [
    ""
   ]
  }
 ],
 "metadata": {
  "kernelspec": {
   "display_name": "Python 2",
   "language": "python",
   "name": "python2"
  },
  "language_info": {
   "codemirror_mode": {
    "name": "ipython",
    "version": 2.0
   },
   "file_extension": ".py",
   "mimetype": "text/x-python",
   "name": "python",
   "nbconvert_exporter": "python",
   "pygments_lexer": "ipython2",
   "version": "2.7.6"
  }
 },
 "nbformat": 4,
 "nbformat_minor": 0
}