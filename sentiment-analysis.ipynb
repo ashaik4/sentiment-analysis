{
 "cells": [
  {
   "cell_type": "markdown",
   "metadata": {
    "collapsed": true
   },
   "source": [
    "## In this project, I will be training a neural network for classifying imdb reviews for movies as good or bad\n"
   ]
  },
  {
   "cell_type": "heading",
   "metadata": {},
   "level": 6,
   "source": [
    "Opening and parsing both the data and targets\n"
   ]
  },
  {
   "cell_type": "code",
   "execution_count": 19,
   "metadata": {},
   "outputs": [],
   "source": [
    "g = open('reviews.txt','r')\n",
    "reviews = list(map(lambda x : x[:-1],g.readlines()))\n",
    "g.close()\n",
    "\n",
    "g = open('labels.txt','r')\n",
    "labels = list(map(lambda x : x[:-1].upper(),g.readlines()))\n",
    "g.close()"
   ]
  },
  {
   "cell_type": "heading",
   "metadata": {},
   "level": 5,
   "source": [
    "Step 2: Developing a theory about the data. That is, we try to manually find correlation between reviews and their labels. For example, we need to figure out why a review is negative. \n"
   ]
  },
  {
   "cell_type": "code",
   "execution_count": 20,
   "metadata": {},
   "outputs": [
    {
     "name": "stdout",
     "output_type": "stream",
     "text": [
      "POSITIVE\t : \tbromwell high is a cartoon comedy . it ran at the same time as some other progra...\nNEGATIVE\t : \tstory of a man who has unnatural feelings for a pig . starts out with a opening ...\nPOSITIVE\t : \thomelessness  or houselessness as george carlin stated  has been an issue for ye...\nNEGATIVE\t : \tairport    starts as a brand new luxury    plane is loaded up with valuable pain...\nPOSITIVE\t : \tbrilliant over  acting by lesley ann warren . best dramatic hobo lady i have eve...\nNEGATIVE\t : \tthis film lacked something i couldn  t put my finger on at first charisma on the...\nPOSITIVE\t : \tthis is easily the most underrated film inn the brooks cannon . sure  its flawed...\nNEGATIVE\t : \tsorry everyone    i know this is supposed to be an  art  film   but wow  they sh...\nPOSITIVE\t : \tthis is not the typical mel brooks film . it was much less slapstick than most o...\nNEGATIVE\t : \twhen i was little my parents took me along to the theater to see interiors . it ...\nPOSITIVE\t : \tthis isn  t the comedic robin williams  nor is it the quirky  insane robin willi...\nNEGATIVE\t : \t  it appears that many critics find the idea of a woody allen drama unpalatable ...\nPOSITIVE\t : \tyes its an art . . . to successfully make a slow paced thriller .  br    br   th...\nNEGATIVE\t : \tthe second attempt by a new york intellectual in less than   years to make a  sw...\nPOSITIVE\t : \tin this  critically acclaimed psychological thriller based on true events  gabri...\nNEGATIVE\t : \ti don  t know who to blame  the timid writers or the clueless director . it seem...\nPOSITIVE\t : \tthe night listener           robin williams  toni collette  bobby cannavale  ror...\nNEGATIVE\t : \tthis film is mediocre at best . angie harmon is as funny as a bag of hammers . h...\nPOSITIVE\t : \tyou know  robin williams  god bless him  is constantly shooting himself in the f...\nNEGATIVE\t : \tthe film is bad . there is no other way to say it . the story is weak and outdat...\n"
     ]
    }
   ],
   "source": [
    "def pretty_print_review_and_label(index):\n",
    "    print(labels[index]+ \"\\t : \\t\"+ reviews[index][:80]+\"...\")\n",
    "    \n",
    "for i in range(20):\n",
    "    \n",
    "    pretty_print_review_and_label(i)"
   ]
  },
  {
   "cell_type": "heading",
   "metadata": {},
   "level": 5,
   "source": [
    "After looking at the above set of labels and reviews, we need to figure out the patterns.. why negative reviews are negative and why positive reviews are positive. Do negative reviews have certain chars that positive reviews do not? or Do negative reviews have certain ##words## that positive reviews do not? Is it related to phrases.. etc. \n",
    "\n",
    "\n",
    "To investigate this further, we count the frequencies of words in each case: positive review and negative review.\n"
   ]
  },
  {
   "cell_type": "code",
   "execution_count": 21,
   "metadata": {},
   "outputs": [],
   "source": [
    "from collections import Counter\n",
    "import numpy as np"
   ]
  },
  {
   "cell_type": "code",
   "execution_count": 22,
   "metadata": {},
   "outputs": [],
   "source": [
    "positive_counts = Counter()# to count the frequency of each word in positve review\n",
    "negative_counts = Counter()#to count the frequency of each word in positve review\n",
    "total_counts = Counter() #to maintain total count of each word in the review"
   ]
  },
  {
   "cell_type": "code",
   "execution_count": 24,
   "metadata": {},
   "outputs": [],
   "source": [
    "for i in range(len(reviews)):\n",
    "    if(labels[i]==\"POSITIVE\"):\n",
    "        for word in reviews[i].split(\" \"):\n",
    "            positive_counts[word]+=1\n",
    "            total_counts[word]+=1\n",
    "    else:\n",
    "        for word in reviews[i].split(\" \"):\n",
    "            negative_counts[word]+=1\n",
    "            total_counts[word]+=1"
   ]
  },
  {
   "cell_type": "code",
   "execution_count": 25,
   "metadata": {},
   "outputs": [
    {
     "data": {
      "text/plain": [
       "[('', 1100936),\n ('the', 346648),\n ('.', 319308),\n ('and', 179444),\n ('a', 167376),\n ('of', 153710),\n ('to', 133492),\n ('is', 114490),\n ('in', 100430),\n ('br', 98470)]"
      ]
     },
     "execution_count": 25,
     "metadata": {},
     "output_type": "execute_result"
    }
   ],
   "source": [
    "positive_counts.most_common(10)"
   ]
  },
  {
   "cell_type": "code",
   "execution_count": 26,
   "metadata": {},
   "outputs": [
    {
     "data": {
      "text/plain": [
       "[('', 1122924),\n ('.', 335076),\n ('the', 326778),\n ('a', 158642),\n ('and', 148770),\n ('of', 138018),\n ('to', 137948),\n ('br', 105274),\n ('is', 100166),\n ('it', 96654)]"
      ]
     },
     "execution_count": 26,
     "metadata": {},
     "output_type": "execute_result"
    }
   ],
   "source": [
    "negative_counts.most_common(10)"
   ]
  },
  {
   "cell_type": "heading",
   "metadata": {},
   "level": 6,
   "source": [
    "After looking at the most common words in both the positive and negative reviews, we can see that mostly, the words are repeated. This does not tell much about the correlation. \n",
    "To solve the problem, we need to devise a ratio which tells us if the word is positive or negative.## needs correction\n",
    "\n"
   ]
  },
  {
   "cell_type": "code",
   "execution_count": 27,
   "metadata": {},
   "outputs": [],
   "source": [
    "pos_neg_ratios = Counter()\n",
    "\n",
    "for term, count in list(total_counts.most_common()):\n",
    "    if(count> 10):\n",
    "        pos_neg_ratio = positive_counts[term]/float(negative_counts[term]+1)\n",
    "        pos_neg_ratios[term] = pos_neg_ratio\n",
    "for word, ratio in pos_neg_ratios.most_common():\n",
    "    if(ratio > 1):\n",
    "        pos_neg_ratios[word] = np.log(ratio)\n",
    "    else:\n",
    "        pos_neg_ratios[word] = -np.log((1 / (ratio+0.01)))"
   ]
  },
  {
   "cell_type": "heading",
   "metadata": {},
   "level": 3,
   "source": [
    "Building a Neural Network:\n",
    "* 3 layer neural network \n",
    "* no non linearity in hidden layer\n"
   ]
  },
  {
   "cell_type": "code",
   "execution_count": 29,
   "metadata": {},
   "outputs": [
    {
     "data": {
      "text/plain": [
       "[('edie', 5.3844950627890888),\n ('antwone', 5.1704839950381514),\n ('din', 5.0998664278241987),\n ('gunga', 4.8828019225863706),\n ('goldsworthy', 4.8675344504555822),\n ('yokai', 4.7874917427820458),\n ('gypo', 4.7874917427820458),\n ('visconti', 4.6249728132842707),\n ('flavia', 4.6249728132842707),\n ('kells', 4.5643481914678361)]"
      ]
     },
     "execution_count": 29,
     "metadata": {},
     "output_type": "execute_result"
    }
   ],
   "source": [
    "pos_neg_ratios.most_common(10)"
   ]
  },
  {
   "cell_type": "markdown",
   "metadata": {},
   "source": [
    "#Tokenizing words of the reviews and labels.\n"
   ]
  },
  {
   "cell_type": "code",
   "execution_count": 32,
   "metadata": {},
   "outputs": [
    {
     "name": "stdout",
     "output_type": "stream",
     "text": [
      "74074\n"
     ]
    }
   ],
   "source": [
    "vocab = set(total_counts.keys())\n",
    "vocab_size = len(vocab)\n",
    "\n",
    "print(vocab_size)"
   ]
  },
  {
   "cell_type": "code",
   "execution_count": 49,
   "metadata": {},
   "outputs": [
    {
     "data": {
      "text/plain": [
       "array([[ 0.,  0.,  0., ...,  0.,  0.,  0.]])"
      ]
     },
     "execution_count": 49,
     "metadata": {},
     "output_type": "execute_result"
    }
   ],
   "source": [
    "import numpy as np\n",
    "layer_0 = np.zeros((1,vocab_size))\n",
    "layer_0"
   ]
  },
  {
   "cell_type": "code",
   "execution_count": 52,
   "metadata": {},
   "outputs": [
    {
     "data": {
      "text/plain": [
       "['',\n 'nonfunctioning',\n 'flatman',\n 'picturesque',\n 'ped',\n 'arteries',\n 'greeter',\n 'cliffs',\n 'jesminder',\n 'farcelike',\n 'mcgowan',\n 'grierson',\n 'disingenious',\n 'bogeymen',\n 'cave',\n 'needham',\n 'intellectually',\n 'schoolhouse',\n 'cyril',\n 'replicant']"
      ]
     },
     "execution_count": 52,
     "metadata": {},
     "output_type": "execute_result"
    }
   ],
   "source": [
    "word2index = { } \n",
    "for index,word in enumerate(vocab):\n",
    "    word2index[word] = index\n",
    "list(word2index.keys())[:20]"
   ]
  },
  {
   "cell_type": "code",
   "execution_count": 53,
   "metadata": {},
   "outputs": [],
   "source": [
    "def update_input_layer(review):\n",
    "    global layer_0 \n",
    "    layer_0*=0\n",
    "    for word in review.split(\" \"):\n",
    "        layer_0[0][word2index[word]] += 1\n",
    "update_input_layer(reviews[0])"
   ]
  },
  {
   "cell_type": "code",
   "execution_count": 54,
   "metadata": {},
   "outputs": [],
   "source": [
    "def get_target_for_label(label):\n",
    "    if(label == 'POSITIVE'):\n",
    "        return 1\n",
    "    else: \n",
    "        return 0"
   ]
  },
  {
   "cell_type": "markdown",
   "metadata": {},
   "source": [
    "Building the Neural Network"
   ]
  },
  {
   "cell_type": "code",
   "execution_count": 55,
   "metadata": {},
   "outputs": [],
   "source": [
    "# Quick numpy.random.normal tutorial:\n",
    "# np.random.normal(mean, std_deviation, size) creates an array with elements in normal distribution.\n",
    "mu,sigma = 10,0.1\n",
    "s = np.random.normal(mu,sigma,size=100000)\n",
    "#print(s)"
   ]
  },
  {
   "cell_type": "code",
   "execution_count": 56,
   "metadata": {},
   "outputs": [
    {
     "data": {
      "image/png": "[encoded data removed]",
      "text/plain": [
       "<matplotlib.figure.Figure at 0x10607e438>"
      ]
     },
     "metadata": {},
     "output_type": "display_data"
    }
   ],
   "source": [
    "import matplotlib.pyplot as plt\n",
    "count, bins, ignored = plt.hist(s, 30, normed=True)\n",
    "plt.plot(bins, 1/(sigma * np.sqrt(2 * np.pi)) *np.exp( - (bins - mu)**2 / (2 * sigma**2) ),linewidth=2, color='r')\n",
    "plt.show()"
   ]
  },
  {
   "cell_type": "code",
   "execution_count": 57,
   "metadata": {},
   "outputs": [],
   "source": [
    "import time\n",
    "import sys\n",
    "import numpy as np\n",
    "# Tweaking our network from before to model these phenomena\n",
    "class NeuralNetwork():\n",
    "    def __init__(self,reviews,labels,hidden_nodes = 10, learning_rate = 0.01):\n",
    "        #set our random number generator\n",
    "        np.random.seed(1)\n",
    "        # calling preprocess_data function\n",
    "        self.preprocess_data(reviews, labels)\n",
    "        \n",
    "        self.initialize_network(len(self.review_vocab),hidden_nodes,1,learning_rate)\n",
    "        \n",
    "    \n",
    "    def preprocess_data(self,reviews, labels):\n",
    "        # creating a set of words from all the reviews.\n",
    "        review_vocab = set()\n",
    "        for review in reviews:\n",
    "            for word in reviews.split(\" \"):\n",
    "                review_vocab.add(word)\n",
    "        #exporting the set created above as a list variable that is a class variable.        \n",
    "        self.review_vocab = list(review_vocab)\n",
    "        \n",
    "        # similar to the above procedure, we will now create a set of labels and export it to \n",
    "        # self.label_vocab class variable\n",
    "        \n",
    "        label_vocab = set()\n",
    "        for label in labels:\n",
    "            label_vocab.add(label)\n",
    "        self.label_vocab = list(label_vocab)\n",
    "        \n",
    "        # size of the review vocabulary \n",
    "        self.review_vocab_size = len(self.review_vocab)\n",
    "        \n",
    "        # size of the label vocabulary\n",
    "        self.label_vocab_size = len(self.label_vocab)\n",
    "        \n",
    "        # creating a dictionary with words and mapping them to numbers\n",
    "        self.word2index = {}\n",
    "        for word, index in enumerate(self.review_vocab):\n",
    "            self.word2index[word] = index\n",
    "        \n",
    "        # creating a dictionary with labels and mapping them to numbers. \n",
    "        self.label2index = { }\n",
    "        for label, index in enumerate(self.label_vocab):\n",
    "            self.label2index [label] = index\n",
    "                \n",
    "        \n",
    "    def init_network(self, input_nodes, hidden_nodes, output_nodes, learning_rate):\n",
    "        # Set number of nodes in input, hidden and output layers.\n",
    "        self.input_nodes = input_nodes\n",
    "        self.hidden_nodes = hidden_nodes\n",
    "        self.output_nodes = output_nodes\n",
    "\n",
    "        # Initialize weights\n",
    "        self.weights_0_1 = np.zeros((self.input_nodes,self.hidden_nodes))\n",
    "    \n",
    "        self.weights_1_2 = np.random.normal(0.0, self.output_nodes**-0.5,\n",
    "                                            (self.hidden_nodes, self.output_nodes))\n",
    "        \n",
    "        self.learning_rate = learning_rate\n",
    "        \n",
    "        self.layer_0 = np.zeros((1,input_nodes))\n",
    "    \n",
    "    def update_input_layer(self,review): #--> resets the input layer for each review. \n",
    "         # clear out previous state, reset the layer to be all 0s\n",
    "        self.layer_0 *= 0\n",
    "        for word in review.split(\" \"):\n",
    "            if(word in self.word2index.keys()):\n",
    "                self.layer_0[0][self.word2index[word]] += 1\n",
    "    \n",
    "    def get_target_for_label(self,label):\n",
    "        if(label == 'POSITIVE'):\n",
    "            return 1\n",
    "        else:\n",
    "            return 0\n",
    "        \n",
    "    def sigmoid(self,x):\n",
    "        return 1 / (1 + np.exp(-x))\n",
    "    \n",
    "    def sigmoid_output_2_derivative(self,output):\n",
    "        return output * (1 - output)\n",
    "    \n",
    "    def train(self,training_reviews, training_labels):\n",
    "        assert(len(training_reviews) == len(training_labels))\n",
    "        \n",
    "        correct_so_far = 0\n",
    "        \n",
    "        start = time.time()\n",
    "        for i in range(len(training_reviews)):\n",
    "            review = training_reviews[i]\n",
    "            label = training_labels[i]\n",
    "            \n",
    "            ## forward pass\n",
    "            \n",
    "            #input layer \n",
    "            self.update_input_layer(review)\n",
    "            \n",
    "            #hidden layer\n",
    "            layer_1 = layer_0.dot(self.weights_0_1)\n",
    "            \n",
    "            #output layer\n",
    "            layer_2 = self.sigmoid(layer_1.dot(self.weights_1_2))\n",
    "            \n",
    "            ### Backward Pass:"
   ]
  },
  {
   "cell_type": "code",
   "execution_count": null,
   "metadata": {},
   "outputs": [],
   "source": [
    ""
   ]
  }
 ],
 "metadata": {
  "kernelspec": {
   "display_name": "Python 2",
   "language": "python",
   "name": "python2"
  },
  "language_info": {
   "codemirror_mode": {
    "name": "ipython",
    "version": 2.0
   },
   "file_extension": ".py",
   "mimetype": "text/x-python",
   "name": "python",
   "nbconvert_exporter": "python",
   "pygments_lexer": "ipython2",
   "version": "2.7.6"
  }
 },
 "nbformat": 4,
 "nbformat_minor": 0
}